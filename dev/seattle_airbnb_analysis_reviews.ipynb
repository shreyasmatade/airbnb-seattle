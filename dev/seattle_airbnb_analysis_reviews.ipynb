{
 "cells": [
  {
   "cell_type": "markdown",
   "metadata": {},
   "source": [
    "1. What are the primary factors affect the listing price?\n",
    "2. What are the important features helps owner in becoming super host?\n",
    "3. Which area in Seattle is most expensive to rent?\n",
    "4. Is there any seasonal effect in Seattle airbnb listing price? What would be best time to visit if I want to save some money?\n",
    "5. Are there any homes in 2016 that never occupied? Is there any significant factors in why these places were never rented?"
   ]
  },
  {
   "cell_type": "code",
   "execution_count": 1,
   "metadata": {},
   "outputs": [],
   "source": [
    "# Import libraries\n",
    "import pandas as pd\n",
    "import numpy as np\n",
    "from sklearn.preprocessing import MinMaxScaler\n",
    "from datetime import datetime\n",
    "from sklearn.cluster import KMeans\n",
    "from sklearn.model_selection import train_test_split\n",
    "from sklearn.linear_model import LinearRegression\n",
    "from sklearn.ensemble import RandomForestRegressor\n",
    "from sklearn.metrics import r2_score, mean_squared_error\n",
    "import matplotlib.pyplot as plt\n",
    "\n",
    "# Initial data lookup\n",
    "def get_shape(df):\n",
    "    print('The shape of the dataframe is : '+ str(df.shape))\n",
    "    \n",
    "def get_head(df, rows = 5):\n",
    "    print(\"########################################################################\")\n",
    "    print(df.head(rows))\n",
    "    \n",
    "# Missing Values\n",
    "def get_missing_values_by_column(df):\n",
    "    all_cols = df.columns.values\n",
    "    print(all_cols)\n",
    "    for col in all_cols:\n",
    "        missing_percent = df[col].isnull().mean()\n",
    "        if missing_percent > 0:\n",
    "            print(\"Column \" + col + \" has \" + str(float(\"{0:.2f}\".format(missing_percent * 100))) + \"% missing values\" )\n",
    "            \n",
    "def get_float_val (df):\n",
    "    df.replace(regex=True,inplace=True,to_replace='[^a-zA-Z0-9\\n\\.]',value='')\n",
    "    df = df.astype(dtype='float')\n",
    "    # since host left it blank..replacing null values with 0 \n",
    "    return df.fillna(value = 0).copy()\n",
    "\n",
    "def get_bool_val (df):\n",
    "    df.replace(['t','f'],[1,0],inplace=True)\n",
    "    df = df.astype(dtype='bool')\n",
    "    # since host left it blank..replacing null values with 0 \n",
    "    return df.fillna(value = 0).copy()\n",
    "\n",
    "\n",
    "def count_days_since(oldDate, currentDate = datetime(2016,1,1,0,0,0)):\n",
    "    return (currentDate-oldDate).days\n",
    "\n",
    "\n",
    "def preprocess_features(df):\n",
    "    '''\n",
    "    From looking at each of the categorical variable we found that,\n",
    "    1. experiences_offered, host_verifications, market, has_availability, requires_license columns has only one value hence we need to Drop these columns from dataframe.\n",
    "    2. 'security_deposit', 'cleaning_fee', 'extra_people' these columns need to be converted to float value of $\n",
    "    3. amenities need to converted to int where number is total number of amenities\n",
    "    4. host_response_rate need to converted to float\n",
    "    5. Transit need to converted to nminal var where NaN = 0 and everuthing else is 1\n",
    "    6. host_since need to converted to diff between 01/01/2016 - host_since in days\n",
    "\n",
    "    '''\n",
    "    #'security_deposit', 'cleaning_fee', 'extra_people',host_acceptance_rate\n",
    "    df['host_acceptance_rate'] = get_float_val(df['host_acceptance_rate'])\n",
    "    df['host_response_rate'] = get_float_val(df['host_response_rate'])\n",
    "    df['security_deposit'] = get_float_val(df['security_deposit'])\n",
    "    df['cleaning_fee'] = get_float_val(df['cleaning_fee'])\n",
    "    df['extra_people'] = get_float_val(df['extra_people'])\n",
    "    df['price'] = get_float_val(df['price'])  # there are no missing values here\n",
    "    \n",
    "    \n",
    "    \n",
    "\n",
    "    # transit\n",
    "    df['Transit_available'] = ~ (df.transit.isnull())\n",
    "    df = df.drop(['transit'],axis=1);\n",
    "\n",
    "    # Amenities\n",
    "    df['Facilities'] = df.amenities.apply(lambda a : len(a))\n",
    "    df = df.drop(['amenities'],axis=1);\n",
    "\n",
    "    # host since\n",
    "    df['Host_experience'] = pd.to_datetime(df.host_since).apply(count_days_since)\n",
    "    df = df.drop(['host_since'],axis=1);\n",
    "    \n",
    "    # binary variables\n",
    "    df['host_is_superhost'] = get_bool_val(df['host_is_superhost'])\n",
    "    df['require_guest_profile_picture'] = get_bool_val(df['require_guest_profile_picture'])\n",
    "    df['require_guest_phone_verification'] = get_bool_val(df['require_guest_phone_verification'])\n",
    "    df['host_has_profile_pic'] = get_bool_val(df['host_has_profile_pic'])\n",
    "    df['host_identity_verified'] = get_bool_val(df['host_identity_verified'])\n",
    "    df['is_location_exact'] = get_bool_val(df['is_location_exact'])\n",
    "    df['has_availability'] = get_bool_val (df['has_availability'])\n",
    "    df['instant_bookable'] = get_bool_val(df['instant_bookable'])\n",
    "    \n",
    "\n",
    "    # Location_Label\n",
    "    #kmeans = KMeans(n_clusters=5, random_state=0).fit(nlisting_df[['longitude','latitude']])\n",
    "    #nlisting_df['Location_label'] = kmeans.labels_\n",
    "    # Show Plot\n",
    "    #plt.scatter(nlisting_df.longitude.values, nlisting_df.latitude.values, c=nlisting_df['Location_label'].values, alpha=0.5)\n",
    "    #plt.show()\n",
    "\n",
    "    #nlisting_df = nlisting_df.drop(['longitude'],axis=1)\n",
    "    #nlisting_df = nlisting_df.drop(['latitude'],axis=1)\n",
    "\n",
    "    #experiences_offered, host_verifications, market, has_availability, requires_license\n",
    "    df = df.drop(['experiences_offered','host_verifications','market','has_availability','requires_license'],axis=1)\n",
    "\n",
    "    return df\n",
    "\n",
    "\n",
    "#lets impute data\n",
    "def impute_features(df):\n",
    "    '''\n",
    "    INPUT\n",
    "    df - pandas dataframe \n",
    "    \n",
    "    OUTPUT\n",
    "    df - pandas dataframe with imputed data\n",
    "    \n",
    "    This function cleans df using the following steps to produce X and y:\n",
    "    1. For each numeric variable in X, fill the column with the mean value of the column.\n",
    "    2. Lets drop all the rows which has nan values in the \n",
    "    '''\n",
    "   \n",
    "    # Fill numeric columns with the mean\n",
    "    num_vars = df.select_dtypes(include=['float', 'int']).columns\n",
    "    print(num_vars)\n",
    "    for col in num_vars:\n",
    "        df[col].fillna((df[col].mean()), inplace=True)\n",
    "        \n",
    "    # Dummy the categorical variables\n",
    "    cat_vars = df.select_dtypes(include=['object']).copy().columns\n",
    "    print(cat_vars)\n",
    "    for var in  cat_vars:\n",
    "        # for each cat add dummy var, drop original column\n",
    "        df = pd.concat([df.drop(var, axis=1), pd.get_dummies(df[var], prefix=var, prefix_sep='_', drop_first=True)], axis=1)\n",
    "    return df\n",
    "\n",
    "#lets clean the data\n",
    "def split_data(df,target='price'):\n",
    "    '''\n",
    "    INPUT\n",
    "    df - pandas dataframe \n",
    "    target - target var \n",
    "    \n",
    "    OUTPUT\n",
    "    X - A matrix holding all of the variables you want to consider when predicting the response\n",
    "    y - the corresponding response vector\n",
    "    \n",
    "    This function cleans df using the following steps to produce X and y:\n",
    "    1. Drop all the rows with no target\n",
    "    2. Create X as all the columns that are not the target column\n",
    "    3. Create y as the target column\n",
    "    4. Drop the Salary, Respondent, and the ExpectedSalary columns from X\n",
    "    5. For each numeric variable in X, fill the column with the mean value of the column.\n",
    "    6. Create dummy columns for all the categorical variables in X, drop the original columns\n",
    "    '''\n",
    "    # Drop rows with missing salary values\n",
    "    df = df.dropna(subset=[target], axis=0)\n",
    "    y = df[target]\n",
    "    \n",
    "    #Drop respondent and expected salary columns\n",
    "    df = df.drop([target], axis=1)\n",
    "    \n",
    "    X = df\n",
    "    return X, y\n",
    "\n",
    "\n",
    "def normalise_data(df):   \n",
    "    # normalise data\n",
    "    scaler = MinMaxScaler().fit(df)\n",
    "    return scaler.transform(df)\n"
   ]
  },
  {
   "cell_type": "markdown",
   "metadata": {},
   "source": [
    "There are many features that are just informative in nature. To reduce the dimentianllity let us remove such columns from the data."
   ]
  },
  {
   "cell_type": "code",
   "execution_count": 8,
   "metadata": {},
   "outputs": [],
   "source": [
    "def data_wrangling(df):\n",
    "\n",
    "    # Select relavent features for analysis\n",
    "    selected_vars = ['id', 'experiences_offered',\n",
    "           'transit', 'host_since', 'host_response_rate',\n",
    "           'host_acceptance_rate', 'host_is_superhost',\n",
    "           'host_total_listings_count', 'host_verifications',\n",
    "           'host_has_profile_pic', 'host_identity_verified', 'market', \n",
    "           'zipcode', 'is_location_exact', 'property_type', 'room_type',\n",
    "           'accommodates', 'bathrooms', 'bedrooms', 'beds', 'bed_type',\n",
    "           'amenities', 'square_feet', 'price', 'security_deposit', 'cleaning_fee',\n",
    "           'guests_included', 'extra_people', 'minimum_nights',\n",
    "           'maximum_nights', 'has_availability',\n",
    "           'number_of_reviews',\n",
    "           'review_scores_rating',\n",
    "           'review_scores_accuracy', 'review_scores_cleanliness',\n",
    "           'review_scores_checkin', 'review_scores_communication',\n",
    "           'review_scores_location', 'review_scores_value',\n",
    "           'requires_license', \n",
    "           'instant_bookable', 'cancellation_policy',\n",
    "           'require_guest_profile_picture',\n",
    "           'require_guest_phone_verification',\n",
    "           'reviews_per_month']\n",
    "\n",
    "    # remove irrelavant features from dataframe\n",
    "    df = df[selected_vars]\n",
    "    print(df.shape)\n",
    "\n",
    "    # Preprocess the features as per required for analysis\n",
    "    df = preprocess_features(df)\n",
    "    print(df.shape)\n",
    "\n",
    "    # Null Values\n",
    "    df.columns[df.isnull().mean() > 0]\n",
    "\n",
    "    #Use the function impute all the Null, nan values\n",
    "    df = impute_features(df) \n",
    "    print(df.shape)\n",
    "\n",
    "    #Split data\n",
    "    X,y = split_data(df,'review_scores_rating')\n",
    "    \n",
    "    #Normalise Data\n",
    "    #X = normalise_data(X)\n",
    "    print(df.shape)\n",
    "    \n",
    "    return X,y"
   ]
  },
  {
   "cell_type": "code",
   "execution_count": 9,
   "metadata": {},
   "outputs": [
    {
     "name": "stdout",
     "output_type": "stream",
     "text": [
      "(3818, 45)\n"
     ]
    },
    {
     "name": "stderr",
     "output_type": "stream",
     "text": [
      "/home/dev/anaconda3/lib/python3.7/site-packages/pandas/core/generic.py:5890: SettingWithCopyWarning: \n",
      "A value is trying to be set on a copy of a slice from a DataFrame\n",
      "\n",
      "See the caveats in the documentation: http://pandas.pydata.org/pandas-docs/stable/indexing.html#indexing-view-versus-copy\n",
      "  self._update_inplace(new_data)\n",
      "/home/dev/anaconda3/lib/python3.7/site-packages/ipykernel_launcher.py:59: SettingWithCopyWarning: \n",
      "A value is trying to be set on a copy of a slice from a DataFrame.\n",
      "Try using .loc[row_indexer,col_indexer] = value instead\n",
      "\n",
      "See the caveats in the documentation: http://pandas.pydata.org/pandas-docs/stable/indexing.html#indexing-view-versus-copy\n",
      "/home/dev/anaconda3/lib/python3.7/site-packages/ipykernel_launcher.py:60: SettingWithCopyWarning: \n",
      "A value is trying to be set on a copy of a slice from a DataFrame.\n",
      "Try using .loc[row_indexer,col_indexer] = value instead\n",
      "\n",
      "See the caveats in the documentation: http://pandas.pydata.org/pandas-docs/stable/indexing.html#indexing-view-versus-copy\n",
      "/home/dev/anaconda3/lib/python3.7/site-packages/ipykernel_launcher.py:61: SettingWithCopyWarning: \n",
      "A value is trying to be set on a copy of a slice from a DataFrame.\n",
      "Try using .loc[row_indexer,col_indexer] = value instead\n",
      "\n",
      "See the caveats in the documentation: http://pandas.pydata.org/pandas-docs/stable/indexing.html#indexing-view-versus-copy\n",
      "/home/dev/anaconda3/lib/python3.7/site-packages/ipykernel_launcher.py:62: SettingWithCopyWarning: \n",
      "A value is trying to be set on a copy of a slice from a DataFrame.\n",
      "Try using .loc[row_indexer,col_indexer] = value instead\n",
      "\n",
      "See the caveats in the documentation: http://pandas.pydata.org/pandas-docs/stable/indexing.html#indexing-view-versus-copy\n",
      "/home/dev/anaconda3/lib/python3.7/site-packages/ipykernel_launcher.py:63: SettingWithCopyWarning: \n",
      "A value is trying to be set on a copy of a slice from a DataFrame.\n",
      "Try using .loc[row_indexer,col_indexer] = value instead\n",
      "\n",
      "See the caveats in the documentation: http://pandas.pydata.org/pandas-docs/stable/indexing.html#indexing-view-versus-copy\n",
      "/home/dev/anaconda3/lib/python3.7/site-packages/ipykernel_launcher.py:64: SettingWithCopyWarning: \n",
      "A value is trying to be set on a copy of a slice from a DataFrame.\n",
      "Try using .loc[row_indexer,col_indexer] = value instead\n",
      "\n",
      "See the caveats in the documentation: http://pandas.pydata.org/pandas-docs/stable/indexing.html#indexing-view-versus-copy\n",
      "/home/dev/anaconda3/lib/python3.7/site-packages/ipykernel_launcher.py:70: SettingWithCopyWarning: \n",
      "A value is trying to be set on a copy of a slice from a DataFrame.\n",
      "Try using .loc[row_indexer,col_indexer] = value instead\n",
      "\n",
      "See the caveats in the documentation: http://pandas.pydata.org/pandas-docs/stable/indexing.html#indexing-view-versus-copy\n"
     ]
    },
    {
     "name": "stdout",
     "output_type": "stream",
     "text": [
      "(3818, 40)\n",
      "Index(['id', 'host_response_rate', 'host_acceptance_rate',\n",
      "       'host_total_listings_count', 'accommodates', 'bathrooms', 'bedrooms',\n",
      "       'beds', 'square_feet', 'price', 'security_deposit', 'cleaning_fee',\n",
      "       'guests_included', 'extra_people', 'minimum_nights', 'maximum_nights',\n",
      "       'number_of_reviews', 'review_scores_rating', 'review_scores_accuracy',\n",
      "       'review_scores_cleanliness', 'review_scores_checkin',\n",
      "       'review_scores_communication', 'review_scores_location',\n",
      "       'review_scores_value', 'reviews_per_month', 'Facilities',\n",
      "       'Host_experience'],\n",
      "      dtype='object')\n",
      "Index(['zipcode', 'property_type', 'room_type', 'bed_type',\n",
      "       'cancellation_policy'],\n",
      "      dtype='object')\n",
      "(3818, 85)\n",
      "(3818, 85)\n",
      "(3818, 84)\n",
      "0        95.000000\n",
      "1        96.000000\n",
      "2        97.000000\n",
      "3        94.539262\n",
      "4        92.000000\n",
      "5        95.000000\n",
      "6        99.000000\n",
      "7        97.000000\n",
      "8        97.000000\n",
      "9        97.000000\n",
      "10       97.000000\n",
      "11       97.000000\n",
      "12       98.000000\n",
      "13      100.000000\n",
      "14       98.000000\n",
      "15       80.000000\n",
      "16       95.000000\n",
      "17       98.000000\n",
      "18       94.539262\n",
      "19       85.000000\n",
      "20      100.000000\n",
      "21       84.000000\n",
      "22      100.000000\n",
      "23       94.539262\n",
      "24      100.000000\n",
      "25      100.000000\n",
      "26       94.539262\n",
      "27       95.000000\n",
      "28      100.000000\n",
      "29       85.000000\n",
      "           ...    \n",
      "3788     99.000000\n",
      "3789     90.000000\n",
      "3790     98.000000\n",
      "3791    100.000000\n",
      "3792     94.539262\n",
      "3793     98.000000\n",
      "3794     90.000000\n",
      "3795     98.000000\n",
      "3796     98.000000\n",
      "3797    100.000000\n",
      "3798     98.000000\n",
      "3799     95.000000\n",
      "3800     94.539262\n",
      "3801    100.000000\n",
      "3802     94.539262\n",
      "3803     95.000000\n",
      "3804     95.000000\n",
      "3805     98.000000\n",
      "3806    100.000000\n",
      "3807     97.000000\n",
      "3808     96.000000\n",
      "3809     80.000000\n",
      "3810     92.000000\n",
      "3811    100.000000\n",
      "3812     96.000000\n",
      "3813     80.000000\n",
      "3814    100.000000\n",
      "3815     94.539262\n",
      "3816     94.539262\n",
      "3817     94.539262\n",
      "Name: review_scores_rating, Length: 3818, dtype: float64\n"
     ]
    }
   ],
   "source": [
    "# Load csv into dataframes\n",
    "listing_df= pd.read_csv('..//data//listings.csv')\n",
    "X,y = data_wrangling(listing_df)\n",
    "print(X.shape)\n",
    "print(y)"
   ]
  },
  {
   "cell_type": "code",
   "execution_count": 10,
   "metadata": {},
   "outputs": [],
   "source": [
    "#split the data into train and test\n",
    "X_train, X_test, y_train, y_test = train_test_split(X, y, test_size = .30, random_state=42)\n",
    "\n",
    "#fit the model and obtain pred response\n",
    "lm_model = LinearRegression(normalize=True)\n",
    "#lm_model = RandomForestRegressor(max_depth=20, n_estimators=1000,random_state=False, verbose=False)\n",
    "lm_model.fit(X_train, y_train)\n",
    "y_test_preds = lm_model.predict(X_test)\n",
    "y_train_preds = lm_model.predict(X_train)\n",
    "\n",
    "#append the r2 value from the test set\n",
    "r2_scores_test= (r2_score(y_test, y_test_preds))\n",
    "r2_scores_train= (r2_score(y_train, y_train_preds))\n",
    "results= r2_score(y_test, y_test_preds)"
   ]
  },
  {
   "cell_type": "code",
   "execution_count": 11,
   "metadata": {},
   "outputs": [
    {
     "name": "stdout",
     "output_type": "stream",
     "text": [
      "0.685070341638198\n"
     ]
    }
   ],
   "source": [
    "print(results)"
   ]
  },
  {
   "cell_type": "code",
   "execution_count": 12,
   "metadata": {},
   "outputs": [
    {
     "name": "stdout",
     "output_type": "stream",
     "text": [
      "                      est_int     coefs  abs_coefs\n",
      "60          zipcode_99\\n98122  6.203738   6.203738\n",
      "68         property_type_Dorm  3.856273   3.856273\n",
      "53              zipcode_98134 -2.970945   2.970945\n",
      "56              zipcode_98146  2.954164   2.954164\n",
      "26        review_scores_value  2.943449   2.943449\n",
      "78             bed_type_Couch -2.371812   2.371812\n",
      "22  review_scores_cleanliness  1.951473   1.951473\n",
      "79             bed_type_Futon -1.951060   1.951060\n",
      "21     review_scores_accuracy  1.863840   1.863840\n",
      "66       property_type_Chalet -1.803711   1.803711\n"
     ]
    }
   ],
   "source": [
    "def coef_weights(coefficients, X_train):\n",
    "    '''\n",
    "    INPUT:\n",
    "    coefficients - the coefficients of the linear model \n",
    "    X_train - the training data, so the column names can be used\n",
    "    OUTPUT:\n",
    "    coefs_df - a dataframe holding the coefficient, estimate, and abs(estimate)\n",
    "    \n",
    "    Provides a dataframe that can be used to understand the most influential coefficients\n",
    "    in a linear model by providing the coefficient estimates along with the name of the \n",
    "    variable attached to the coefficient.\n",
    "    '''\n",
    "    coefs_df = pd.DataFrame()\n",
    "    coefs_df['est_int'] = X_train.columns\n",
    "    coefs_df['coefs'] = lm_model.coef_\n",
    "    coefs_df['abs_coefs'] = np.abs(lm_model.coef_)\n",
    "    coefs_df = coefs_df.sort_values('abs_coefs', ascending=False)\n",
    "    return coefs_df\n",
    "\n",
    "#Use the function\n",
    "coef_df = coef_weights(lm_model.coef_, X_train)\n",
    "\n",
    "#A quick look at the top results\n",
    "print(coef_df.head(10))\n"
   ]
  },
  {
   "cell_type": "markdown",
   "metadata": {},
   "source": [
    "# Results\n",
    "\n",
    "1. Zipcode \n",
    "2. Property Type - Dorm\n",
    "3. review_scores_value\n",
    "4. Bed Type - couch,futon\n"
   ]
  },
  {
   "cell_type": "code",
   "execution_count": 25,
   "metadata": {},
   "outputs": [],
   "source": [
    "def plot_by_target(feature):\n",
    "    listing_df= pd.read_csv('..//data//listings.csv')\n",
    "    listing_df['review_scores_rating'] = get_float_val(listing_df['review_scores_rating'])\n",
    "    listing_df['review_scores_rating'] = listing_df['review_scores_rating'].astype(dtype='float')\n",
    "    listing_df = listing_df.dropna(subset=['review_scores_rating'],axis=0)\n",
    "    plotg = listing_df.groupby([feature]).review_scores_rating.mean()\n",
    "    import matplotlib.pyplot as plt\n",
    "    _ = plotg.plot(kind='bar',figsize=(10,10),title='Mean Review Rating in USD by ' +feature+ ' in Seattle 2016 airbnb',y= 'Mean Review Rating in $',legend=True)"
   ]
  },
  {
   "cell_type": "code",
   "execution_count": 26,
   "metadata": {},
   "outputs": [
    {
     "data": {
      "image/png": "[encoded data removed]",
      "text/plain": [
       "<Figure size 720x720 with 1 Axes>"
      ]
     },
     "metadata": {
      "needs_background": "light"
     },
     "output_type": "display_data"
    }
   ],
   "source": [
    "plot_by_target('zipcode')"
   ]
  },
  {
   "cell_type": "code",
   "execution_count": 27,
   "metadata": {},
   "outputs": [
    {
     "data": {
      "image/png": "[encoded data removed]",
      "text/plain": [
       "<Figure size 720x720 with 1 Axes>"
      ]
     },
     "metadata": {
      "needs_background": "light"
     },
     "output_type": "display_data"
    }
   ],
   "source": [
    "plot_by_target('property_type')"
   ]
  },
  {
   "cell_type": "code",
   "execution_count": 22,
   "metadata": {},
   "outputs": [
    {
     "data": {
      "image/png": "[encoded data removed]",
      "text/plain": [
       "<Figure size 720x720 with 1 Axes>"
      ]
     },
     "metadata": {
      "needs_background": "light"
     },
     "output_type": "display_data"
    }
   ],
   "source": [
    "plot_by_target('bed_type')"
   ]
  },
  {
   "cell_type": "code",
   "execution_count": 23,
   "metadata": {},
   "outputs": [
    {
     "data": {
      "image/png": "[encoded data removed]",
      "text/plain": [
       "<Figure size 720x720 with 1 Axes>"
      ]
     },
     "metadata": {
      "needs_background": "light"
     },
     "output_type": "display_data"
    }
   ],
   "source": [
    "plot_by_target('review_scores_value')"
   ]
  },
  {
   "cell_type": "code",
   "execution_count": null,
   "metadata": {},
   "outputs": [],
   "source": []
  }
 ],
 "metadata": {
  "kernelspec": {
   "display_name": "Python 3",
   "language": "python",
   "name": "python3"
  },
  "language_info": {
   "codemirror_mode": {
    "name": "ipython",
    "version": 3
   },
   "file_extension": ".py",
   "mimetype": "text/x-python",
   "name": "python",
   "nbconvert_exporter": "python",
   "pygments_lexer": "ipython3",
   "version": "3.7.1"
  }
 },
 "nbformat": 4,
 "nbformat_minor": 2
}
