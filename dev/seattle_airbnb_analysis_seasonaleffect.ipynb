{
 "cells": [
  {
   "cell_type": "markdown",
   "metadata": {},
   "source": [
    "### Is there any seasonal effect in Seattle airbnb listing price? What would be best time to visit if I want to save some money?\n",
    "\n",
    "\n"
   ]
  },
  {
   "cell_type": "code",
   "execution_count": 11,
   "metadata": {},
   "outputs": [],
   "source": [
    "# Import libraries\n",
    "import pandas as pd\n",
    "import numpy as nm\n",
    "from sklearn.preprocessing import MinMaxScaler\n",
    "pd.options.mode.chained_assignment = None  # default='warn'\n",
    "\n",
    "# Load csv into dataframes\n",
    "calender_df= pd.read_csv('..//data//calendar.csv')\n",
    "\n",
    "# Initial data lookup\n",
    "def get_shape(df):\n",
    "    print('The shape of the dataframe is : '+ str(df.shape))\n",
    "    \n",
    "def get_head(df, rows = 5):\n",
    "    print(\"########################################################################\")\n",
    "    print(df.head(rows))"
   ]
  },
  {
   "cell_type": "code",
   "execution_count": 12,
   "metadata": {},
   "outputs": [
    {
     "name": "stdout",
     "output_type": "stream",
     "text": [
      "The shape of the dataframe is : (1393570, 4)\n"
     ]
    }
   ],
   "source": [
    "# Get Shape\n",
    "get_shape(calender_df);"
   ]
  },
  {
   "cell_type": "code",
   "execution_count": 13,
   "metadata": {},
   "outputs": [
    {
     "name": "stdout",
     "output_type": "stream",
     "text": [
      "########################################################################\n",
      "   listing_id        date available   price\n",
      "0      241032  2016-01-04         t  $85.00\n",
      "1      241032  2016-01-05         t  $85.00\n",
      "2      241032  2016-01-06         f     NaN\n",
      "3      241032  2016-01-07         f     NaN\n",
      "4      241032  2016-01-08         f     NaN\n"
     ]
    }
   ],
   "source": [
    "# Get head\n",
    "get_head(calender_df);"
   ]
  },
  {
   "cell_type": "code",
   "execution_count": 14,
   "metadata": {},
   "outputs": [
    {
     "name": "stdout",
     "output_type": "stream",
     "text": [
      "['listing_id' 'date' 'available' 'price']\n",
      "Column price has 32.94% missing values\n"
     ]
    }
   ],
   "source": [
    "# Missing Values\n",
    "def get_missing_values_by_column(df):\n",
    "    all_cols = df.columns.values\n",
    "    print(all_cols)\n",
    "    for col in all_cols:\n",
    "        missing_percent = df[col].isnull().mean()\n",
    "        if missing_percent > 0:\n",
    "            print(\"Column \" + col + \" has \" + str(float(\"{0:.2f}\".format(missing_percent * 100))) + \"% missing values\" )\n",
    "            \n",
    "get_missing_values_by_column(calender_df)"
   ]
  },
  {
   "cell_type": "code",
   "execution_count": 15,
   "metadata": {},
   "outputs": [],
   "source": [
    "# Replace t and f in 'available' coulnm by 1 and 0 repsp to count \n",
    "calender_df['available'].replace(['t','f'],[1,0],inplace=True)\n",
    "\n",
    "#Replace NaNs in price ccolumn by 0\n",
    "calender_df.fillna(value=0,inplace=True)\n"
   ]
  },
  {
   "cell_type": "code",
   "execution_count": 16,
   "metadata": {},
   "outputs": [],
   "source": [
    "def get_float_val (df):\n",
    "    df.replace(regex=True,inplace=True,to_replace='[^a-zA-Z0-9\\n\\.]',value='')\n",
    "    df = df.astype(dtype='float')\n",
    "    # since host left it blank..replacing null values with 0 \n",
    "    return df.fillna(value = 0).copy()"
   ]
  },
  {
   "cell_type": "code",
   "execution_count": 18,
   "metadata": {},
   "outputs": [
    {
     "name": "stdout",
     "output_type": "stream",
     "text": [
      "########################################################################\n",
      "   listing_id        date  available  price\n",
      "0      241032  2016-01-04          1  85.00\n",
      "1      241032  2016-01-05          1  85.00\n",
      "2      241032  2016-01-06          0      0\n",
      "3      241032  2016-01-07          0      0\n",
      "4      241032  2016-01-08          0      0\n"
     ]
    }
   ],
   "source": [
    "get_float_val(calender_df['price'])\n",
    "get_head(calender_df);"
   ]
  },
  {
   "cell_type": "code",
   "execution_count": 30,
   "metadata": {},
   "outputs": [
    {
     "name": "stdout",
     "output_type": "stream",
     "text": [
      "<class 'pandas.core.frame.DataFrame'>\n",
      "RangeIndex: 1393570 entries, 0 to 1393569\n",
      "Data columns (total 5 columns):\n",
      "listing_id    1393570 non-null int64\n",
      "date          1393570 non-null object\n",
      "available     1393570 non-null int64\n",
      "price         1393570 non-null float64\n",
      "Month         1393570 non-null float64\n",
      "dtypes: float64(2), int64(2), object(1)\n",
      "memory usage: 53.2+ MB\n"
     ]
    }
   ],
   "source": [
    "def count_days_since(oldDate):\n",
    "    return oldDate.month\n",
    "# host since\n",
    "calender_df['Month'] = pd.to_datetime(calender_df.date).apply(count_days_since)\n",
    "calender_df['price'] = calender_df['price'].astype(dtype='float')\n",
    "calender_df['Month'] = calender_df['Month'].astype(dtype='float')\n",
    "calender_df.info()"
   ]
  },
  {
   "cell_type": "code",
   "execution_count": 40,
   "metadata": {},
   "outputs": [
    {
     "name": "stdout",
     "output_type": "stream",
     "text": [
      "Month\n",
      "1.0      7981548.0\n",
      "2.0      9113355.0\n",
      "3.0     10798161.0\n",
      "4.0     10272371.0\n",
      "5.0     11159008.0\n",
      "6.0     11391415.0\n",
      "7.0     11288732.0\n",
      "8.0     11502179.0\n",
      "9.0     11065949.0\n",
      "10.0    11296639.0\n",
      "11.0    11096625.0\n",
      "12.0    11949282.0\n",
      "Name: price, dtype: float64\n"
     ]
    }
   ],
   "source": [
    "datas = calender_df.groupby(['Month']).price.sum()\n",
    "print(datas)"
   ]
  },
  {
   "cell_type": "code",
   "execution_count": 39,
   "metadata": {},
   "outputs": [
    {
     "data": {
      "image/png": "[encoded data removed]",
      "text/plain": [
       "<Figure size 432x288 with 1 Axes>"
      ]
     },
     "metadata": {
      "needs_background": "light"
     },
     "output_type": "display_data"
    }
   ],
   "source": [
    "import matplotlib.pyplot as plt\n",
    "\n",
    "#Step 1 - Prepare Data\n",
    "data = calender_df\n",
    "\n",
    "#Step 2 - Create Plot\n",
    "fig = plt.figure()\n",
    "\n",
    "#Step 3 - Plot\n",
    "ax = fig.add_subplot(111)\n",
    "\n",
    "#Step 4 - Customize plot\n",
    "ax.plot(datas)\n",
    "\n",
    "#Step 5 - plt.show()\n",
    "plt.show()\n",
    "    \n"
   ]
  },
  {
   "cell_type": "code",
   "execution_count": null,
   "metadata": {},
   "outputs": [],
   "source": []
  }
 ],
 "metadata": {
  "kernelspec": {
   "display_name": "Python 3",
   "language": "python",
   "name": "python3"
  },
  "language_info": {
   "codemirror_mode": {
    "name": "ipython",
    "version": 3
   },
   "file_extension": ".py",
   "mimetype": "text/x-python",
   "name": "python",
   "nbconvert_exporter": "python",
   "pygments_lexer": "ipython3",
   "version": "3.7.1"
  }
 },
 "nbformat": 4,
 "nbformat_minor": 2
}
