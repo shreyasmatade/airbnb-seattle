{
 "cells": [
  {
   "cell_type": "code",
   "execution_count": 1,
   "metadata": {},
   "outputs": [],
   "source": [
    "# Import libraries\n",
    "import pandas as pd\n",
    "import numpy as nm\n",
    "\n",
    "# Load csv into dataframes\n",
    "calender_df= pd.read_csv('..\\\\data\\\\calendar.csv')\n",
    "\n",
    "# Initial data lookup\n",
    "def get_shape(df):\n",
    "    print('The shape of the dataframe is : '+ str(df.shape))\n",
    "    \n",
    "def get_head(df, rows = 5):\n",
    "    print(\"########################################################################\")\n",
    "    print(df.head(rows))"
   ]
  },
  {
   "cell_type": "code",
   "execution_count": 2,
   "metadata": {},
   "outputs": [
    {
     "name": "stdout",
     "output_type": "stream",
     "text": [
      "The shape of the dataframe is : (1393570, 4)\n"
     ]
    }
   ],
   "source": [
    "# Get Shape\n",
    "get_shape(calender_df);"
   ]
  },
  {
   "cell_type": "code",
   "execution_count": 3,
   "metadata": {},
   "outputs": [
    {
     "name": "stdout",
     "output_type": "stream",
     "text": [
      "########################################################################\n",
      "   listing_id        date available   price\n",
      "0      241032  2016-01-04         t  $85.00\n",
      "1      241032  2016-01-05         t  $85.00\n",
      "2      241032  2016-01-06         f     NaN\n",
      "3      241032  2016-01-07         f     NaN\n",
      "4      241032  2016-01-08         f     NaN\n"
     ]
    }
   ],
   "source": [
    "# Get head\n",
    "get_head(calender_df);"
   ]
  },
  {
   "cell_type": "code",
   "execution_count": 4,
   "metadata": {},
   "outputs": [
    {
     "name": "stdout",
     "output_type": "stream",
     "text": [
      "['listing_id' 'date' 'available' 'price']\n",
      "Column price has 32.94% missing values\n"
     ]
    }
   ],
   "source": [
    "# Missing Values\n",
    "def get_missing_values_by_column(df):\n",
    "    all_cols = df.columns.values\n",
    "    print(all_cols)\n",
    "    for col in all_cols:\n",
    "        missing_percent = df[col].isnull().mean()\n",
    "        if missing_percent > 0:\n",
    "            print(\"Column \" + col + \" has \" + str(float(\"{0:.2f}\".format(missing_percent * 100))) + \"% missing values\" )\n",
    "            \n",
    "get_missing_values_by_column(calender_df)"
   ]
  },
  {
   "cell_type": "code",
   "execution_count": 5,
   "metadata": {},
   "outputs": [],
   "source": [
    "# Replace t and f in 'available' coulnm by 1 and 0 repsp to count \n",
    "calender_df['available'].replace(['t','f'],[1,0],inplace=True)\n",
    "\n",
    "#Replace NaNs in price ccolumn by 0\n",
    "calender_df.fillna(value=0,inplace=True)\n"
   ]
  },
  {
   "cell_type": "code",
   "execution_count": 6,
   "metadata": {},
   "outputs": [
    {
     "name": "stdout",
     "output_type": "stream",
     "text": [
      "   listing_id        date  available   price\n",
      "0      241032  2016-01-04          1  $85.00\n",
      "1      241032  2016-01-05          1  $85.00\n",
      "2      241032  2016-01-06          0       0\n",
      "3      241032  2016-01-07          0       0\n",
      "4      241032  2016-01-08          0       0\n"
     ]
    }
   ],
   "source": [
    "print(calender_df.head())\n",
    "series_cal = calender_df.groupby(['listing_id'])['available'].sum() == 365\n",
    "cal = series_cal.reset_index()\n",
    "never_occupied_estate = cal[cal['available']].listing_id.values"
   ]
  },
  {
   "cell_type": "code",
   "execution_count": 7,
   "metadata": {},
   "outputs": [
    {
     "data": {
      "text/plain": [
       "array([    4291,     6606,     9419,    10385,    10695,    11012,\n",
       "          11411,    26116,    51826,    52525,    66540,    74328,\n",
       "          80188,    82763,    84030,    86185,   103908,   103920,\n",
       "         108468,   132120,   149489,   170273,   176678,   178844,\n",
       "         180939,   202251,   210316,   215954,   254340,   264829,\n",
       "         265901,   278192,   278830,   286712,   299817,   320704,\n",
       "         338091,   354453,   387078,   387079,   392140,   408526,\n",
       "         413733,   430453,   443942,   447523,   449602,   492287,\n",
       "         496074,   529090,   555182,   555858,   571640,   571651,\n",
       "         604600,   607788,   609252,   609421,   611500,   613151,\n",
       "         637326,   649243,   670009,   685600,   692080,   696004,\n",
       "         716829,   723723,   746380,   752483,   788146,   789966,\n",
       "         796594,   808811,   830948,   942490,   955506,   973859,\n",
       "        1002835,  1060467,  1063855,  1097766,  1123977,  1136522,\n",
       "        1145590,  1190224,  1190571,  1246809,  1251707,  1251813,\n",
       "        1259305,  1260259,  1277033,  1289082,  1317919,  1323634,\n",
       "        1340668,  1348777,  1364440,  1377812,  1404307,  1407502,\n",
       "        1416763,  1417880,  1432713,  1488166,  1511620,  1520501,\n",
       "        1520593,  1521633,  1534622,  1539463,  1539476,  1541705,\n",
       "        1545801,  1549973,  1557314,  1571230,  1589461,  1593939,\n",
       "        1593991,  1594412,  1601714,  1602488,  1614502,  1633025,\n",
       "        1672979,  1702092,  1732441,  1737244,  1790020,  1827586,\n",
       "        1831338,  1840671,  1970725,  1976382,  1984962,  2037250,\n",
       "        2056276,  2075094,  2134911,  2150760,  2187563,  2211594,\n",
       "        2260626,  2274086,  2298775,  2352218,  2357110,  2367298,\n",
       "        2396734,  2471731,  2472850,  2474569,  2484067,  2492143,\n",
       "        2500188,  2515795,  2586642,  2610187,  2650482,  2693137,\n",
       "        2720963,  2760901,  2762241,  2763078,  2778101,  2818292,\n",
       "        2818420,  2906694,  2909809,  2919571,  2926776,  2931922,\n",
       "        2979387,  3005854,  3024336,  3061918,  3076065,  3085726,\n",
       "        3096191,  3126153,  3168651,  3209964,  3226793,  3237501,\n",
       "        3250577,  3251069,  3254956,  3258386,  3263071,  3272374,\n",
       "        3282000,  3282760,  3291777,  3303857,  3319386,  3329962,\n",
       "        3354614,  3394338,  3413183,  3416217,  3416590,  3418230,\n",
       "        3424242,  3489837,  3497530,  3505739,  3528627,  3529563,\n",
       "        3535171,  3544953,  3544964,  3561108,  3561237,  3604904,\n",
       "        3639023,  3652612,  3653575,  3679617,  3689119,  3706719,\n",
       "        3720511,  3720731,  3726391,  3732094,  3732103,  3738724,\n",
       "        3751503,  3766055,  3768742,  3770248,  3773568,  3774113,\n",
       "        3793185,  3803212,  3883041,  3884851,  3888986,  3889280,\n",
       "        3889299,  3904056,  3916050,  3925572,  3931346,  3963320,\n",
       "        3971934,  3979496,  4022127,  4023177,  4026757,  4038347,\n",
       "        4066344,  4104442,  4105081,  4106041,  4110396,  4125779,\n",
       "        4129218,  4157572,  4163204,  4172364,  4181226,  4182732,\n",
       "        4225225,  4250367,  4252591,  4257097,  4258762,  4270642,\n",
       "        4271174,  4316910,  4317390,  4318814,  4324317,  4384000,\n",
       "        4384095,  4395349,  4395502,  4396961,  4403171,  4418480,\n",
       "        4438871,  4454264,  4464795,  4477426,  4479426,  4484426,\n",
       "        4526943,  4532538,  4559222,  4566393,  4597013,  4597584,\n",
       "        4637801,  4642956,  4664312,  4669377,  4676275,  4678866,\n",
       "        4681885,  4701146,  4706111,  4708075,  4718820,  4735761,\n",
       "        4772997,  4784639,  4809601,  4811583,  4824699,  4909327,\n",
       "        4916433,  4922836,  4943016,  4950847,  4951079,  4993710,\n",
       "        4996554,  5002964,  5020848,  5047188,  5126077,  5126365,\n",
       "        5126446,  5163047,  5201816,  5205984,  5219336,  5240694,\n",
       "        5352741,  5423692,  5444457,  5459895,  5537833,  5559643,\n",
       "        5607404,  5619397,  5620928,  5651254,  5707514,  5719631,\n",
       "        5744931,  5751177,  5792683,  5804875,  5834820,  5859152,\n",
       "        5927083,  5946151,  5950957,  5992032,  6005222,  6078382,\n",
       "        6093756,  6103108,  6117473,  6120046,  6130287,  6133684,\n",
       "        6165353,  6185083,  6187841,  6202603,  6239108,  6249536,\n",
       "        6335327,  6403104,  6421243,  6425652,  6482409,  6482984,\n",
       "        6490453,  6512979,  6516775,  6543683,  6545246,  6545602,\n",
       "        6561753,  6561811,  6572501,  6575407,  6578147,  6629132,\n",
       "        6629657,  6644628,  6652199,  6660186,  6694276,  6705584,\n",
       "        6714652,  6728419,  6748502,  6759038,  6766708,  6779893,\n",
       "        6780670,  6782993,  6797786,  6801095,  6807884,  6812054,\n",
       "        6823597,  6837751,  6847052,  6850007,  6865200,  6865696,\n",
       "        6916167,  6925807,  6934128,  6935953,  6971260,  6992387,\n",
       "        6993019,  7003848,  7009282,  7035077,  7037522,  7050204,\n",
       "        7069080,  7071021,  7073650,  7075948,  7151093,  7151417,\n",
       "        7217102,  7235573,  7247518,  7258811,  7264667,  7305969,\n",
       "        7350870,  7360078,  7396508,  7396707,  7397476,  7401671,\n",
       "        7402190,  7418814,  7435912,  7441508,  7454026,  7462439,\n",
       "        7480843,  7492006,  7499506,  7500728,  7517215,  7534300,\n",
       "        7536074,  7559939,  7577073,  7584142,  7596455,  7596934,\n",
       "        7598743,  7601766,  7620570,  7634011,  7646637,  7651148,\n",
       "        7651602,  7651702,  7653539,  7664899,  7676574,  7692789,\n",
       "        7698721,  7713043,  7718139,  7725597,  7746170,  7748778,\n",
       "        7763878,  7805491,  7807658,  7826593,  7828509,  7859909,\n",
       "        7914021,  7915432,  7917700,  7921453,  7935437,  7938153,\n",
       "        7939058,  7941079,  7948034,  7965184,  7968548,  7971334,\n",
       "        7974112,  7984550,  7984738,  7985714,  7987836,  7987846,\n",
       "        8012443,  8028801,  8047522,  8052307,  8067053,  8067827,\n",
       "        8068232,  8081658,  8083242,  8087037,  8089214,  8094338,\n",
       "        8097708,  8103432,  8106277,  8116504,  8118346,  8136553,\n",
       "        8154238,  8155580,  8155710,  8156860,  8156894,  8157486,\n",
       "        8170683,  8173487,  8174943,  8187592,  8194164,  8195348,\n",
       "        8207848,  8207987,  8212190,  8225635,  8242212,  8248970,\n",
       "        8253955,  8255196,  8273031,  8289871,  8292326,  8310249,\n",
       "        8310398,  8339580,  8340819,  8350401,  8356608,  8365938,\n",
       "        8371720,  8389809,  8409695,  8446120,  8446347,  8459215,\n",
       "        8472954,  8473625,  8474605,  8483477,  8501721,  8505421,\n",
       "        8508223,  8525825,  8541389,  8555098,  8555794,  8566501,\n",
       "        8608233,  8643209,  8653843,  8668073,  8670484,  8673979,\n",
       "        8687967,  8703557,  8704964,  8714974,  8724134,  8742753,\n",
       "        8784239,  8814802,  8829089,  8842808,  8845144,  8848403,\n",
       "        8849407,  8868025,  8886847,  8901863,  8907548,  8968925,\n",
       "        9014572,  9028315,  9028447,  9048029,  9048584,  9076287,\n",
       "        9078843,  9094836,  9094872,  9095510,  9155422,  9156273,\n",
       "        9157232,  9159975,  9174507,  9186256,  9189391,  9238818,\n",
       "        9281758,  9292039,  9303530,  9342299,  9345786,  9351911,\n",
       "        9368950,  9369481,  9409233,  9410302,  9415562,  9416373,\n",
       "        9435279,  9435483,  9448215,  9448719,  9460991,  9462315,\n",
       "        9463491,  9474025,  9476826,  9480029,  9484823,  9489310,\n",
       "        9531265,  9545664,  9545766,  9573675,  9574602,  9580209,\n",
       "        9591718,  9597947,  9617068,  9635943,  9636952,  9663221,\n",
       "        9685856,  9693971,  9695233,  9696950,  9712716,  9736801,\n",
       "        9813231,  9813684,  9814376,  9858690,  9863312,  9863457,\n",
       "        9863565,  9907337,  9920856,  9921445,  9925458,  9970609,\n",
       "        9970805,  9979329, 10043487, 10068879, 10106055, 10122924,\n",
       "       10123910, 10141859, 10156116, 10170577, 10183490, 10192213,\n",
       "       10211928, 10262971, 10272763, 10309898, 10332096, 10339145],\n",
       "      dtype=int64)"
      ]
     },
     "execution_count": 7,
     "metadata": {},
     "output_type": "execute_result"
    }
   ],
   "source": [
    "never_occupied_estate"
   ]
  },
  {
   "cell_type": "code",
   "execution_count": 16,
   "metadata": {},
   "outputs": [
    {
     "data": {
      "image/png": "[encoded data removed]",
      "text/plain": [
       "<Figure size 432x288 with 1 Axes>"
      ]
     },
     "metadata": {
      "needs_background": "light"
     },
     "output_type": "display_data"
    }
   ],
   "source": [
    "import matplotlib.pyplot as plt\n",
    "\n",
    "cal['available'].value_counts().plot(kind='bar', title = 'Unoccupied Properties in Seattle AirBNB in 2016');"
   ]
  },
  {
   "cell_type": "code",
   "execution_count": null,
   "metadata": {},
   "outputs": [],
   "source": []
  }
 ],
 "metadata": {
  "kernelspec": {
   "display_name": "Python 3",
   "language": "python",
   "name": "python3"
  },
  "language_info": {
   "codemirror_mode": {
    "name": "ipython",
    "version": 3
   },
   "file_extension": ".py",
   "mimetype": "text/x-python",
   "name": "python",
   "nbconvert_exporter": "python",
   "pygments_lexer": "ipython3",
   "version": "3.6.6"
  }
 },
 "nbformat": 4,
 "nbformat_minor": 2
}
