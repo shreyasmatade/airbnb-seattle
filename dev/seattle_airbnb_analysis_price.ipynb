{
 "cells": [
  {
   "cell_type": "markdown",
   "metadata": {},
   "source": [
    "# Listing Price"
   ]
  },
  {
   "cell_type": "markdown",
   "metadata": {},
   "source": [
    "There are many features that are just informative in nature. To reduce the dimentianllity let us remove such columns from the data."
   ]
  },
  {
   "cell_type": "code",
   "execution_count": 30,
   "metadata": {},
   "outputs": [],
   "source": [
    "# Run dataprocessing Notebook\n",
    "%run dataprocessing.ipynb\n",
    "\n",
    "# Select relavent features for analysis\n",
    "selected_vars = ['id', 'experiences_offered',\n",
    "       'transit', 'host_since', 'host_response_rate',\n",
    "       'host_acceptance_rate', 'host_is_superhost',\n",
    "       'host_total_listings_count', 'host_verifications',\n",
    "       'host_has_profile_pic', 'host_identity_verified', 'market', \n",
    "       'zipcode', 'is_location_exact', 'property_type', 'room_type',\n",
    "       'accommodates', 'bathrooms', 'bedrooms', 'beds', 'bed_type',\n",
    "       'amenities', 'square_feet', 'price', 'security_deposit', 'cleaning_fee',\n",
    "       'guests_included', 'extra_people', 'minimum_nights',\n",
    "       'maximum_nights', 'has_availability',\n",
    "       'number_of_reviews',\n",
    "       'review_scores_rating',\n",
    "       'review_scores_accuracy', 'review_scores_cleanliness',\n",
    "       'review_scores_checkin', 'review_scores_communication',\n",
    "       'review_scores_location', 'review_scores_value',\n",
    "       'requires_license', \n",
    "       'instant_bookable', 'cancellation_policy',\n",
    "       'require_guest_profile_picture',\n",
    "       'require_guest_phone_verification',\n",
    "       'reviews_per_month']"
   ]
  },
  {
   "cell_type": "code",
   "execution_count": 22,
   "metadata": {},
   "outputs": [
    {
     "name": "stdout",
     "output_type": "stream",
     "text": [
      "Index(['id', 'host_response_rate', 'host_acceptance_rate',\n",
      "       'host_total_listings_count', 'accommodates', 'bathrooms', 'bedrooms',\n",
      "       'beds', 'square_feet', 'price', 'security_deposit', 'cleaning_fee',\n",
      "       'guests_included', 'extra_people', 'minimum_nights', 'maximum_nights',\n",
      "       'number_of_reviews', 'review_scores_rating', 'review_scores_accuracy',\n",
      "       'review_scores_cleanliness', 'review_scores_checkin',\n",
      "       'review_scores_communication', 'review_scores_location',\n",
      "       'review_scores_value', 'reviews_per_month', 'Facilities',\n",
      "       'Host_experience'],\n",
      "      dtype='object')\n",
      "Index(['zipcode', 'property_type', 'room_type', 'bed_type',\n",
      "       'cancellation_policy'],\n",
      "      dtype='object')\n"
     ]
    }
   ],
   "source": [
    "# Load csv into dataframes\n",
    "listing_df= pd.read_csv('..//data//listings.csv')\n",
    "\n",
    "X,y = data_wrangling(listing_df,selected_vars)"
   ]
  },
  {
   "cell_type": "code",
   "execution_count": 23,
   "metadata": {},
   "outputs": [],
   "source": [
    "#split the data into train and test\n",
    "X_train, X_test, y_train, y_test = train_test_split(X, y, test_size = .30, random_state=42)\n",
    "\n",
    "#fit the model and obtain pred response\n",
    "lm_model = LinearRegression(normalize=True)\n",
    "#lm_model = RandomForestRegressor(max_depth=20, n_estimators=1000,random_state=False, verbose=False)\n",
    "lm_model.fit(X_train, y_train)\n",
    "y_test_preds = lm_model.predict(X_test)\n",
    "y_train_preds = lm_model.predict(X_train)\n",
    "\n",
    "#append the r2 value from the test set\n",
    "r2_scores_test= (r2_score(y_test, y_test_preds))\n",
    "r2_scores_train= (r2_score(y_train, y_train_preds))\n",
    "results= r2_score(y_test, y_test_preds)"
   ]
  },
  {
   "cell_type": "code",
   "execution_count": 24,
   "metadata": {},
   "outputs": [
    {
     "name": "stdout",
     "output_type": "stream",
     "text": [
      "0.6140083807584416\n"
     ]
    }
   ],
   "source": [
    "print(results)"
   ]
  },
  {
   "cell_type": "code",
   "execution_count": 25,
   "metadata": {},
   "outputs": [
    {
     "name": "stdout",
     "output_type": "stream",
     "text": [
      "                  est_int       coefs   abs_coefs\n",
      "62     property_type_Boat  101.869130  101.869130\n",
      "58          zipcode_98178  -89.304988   89.304988\n",
      "57          zipcode_98177  -82.022882   82.022882\n",
      "52          zipcode_98133  -66.059216   66.059216\n",
      "56          zipcode_98146  -65.680403   65.680403\n",
      "50          zipcode_98125  -62.301484   62.301484\n",
      "68     property_type_Dorm  -62.141143   62.141143\n",
      "53          zipcode_98134   60.110094   60.110094\n",
      "38          zipcode_98106  -58.506031   58.506031\n",
      "77  room_type_Shared room  -54.534841   54.534841\n"
     ]
    }
   ],
   "source": [
    "#Use the function\n",
    "coef_df = coef_weights(lm_model.coef_, X_train)\n",
    "\n",
    "#A quick look at the top results\n",
    "print(coef_df.head(10))"
   ]
  },
  {
   "cell_type": "markdown",
   "metadata": {},
   "source": [
    "# Results\n",
    "\n",
    "1. property_type_Boat\n",
    "2. Zipcode \n",
    "3. Room Type\n"
   ]
  },
  {
   "cell_type": "markdown",
   "metadata": {},
   "source": [
    "## Price by Month of the year"
   ]
  },
  {
   "cell_type": "code",
   "execution_count": 31,
   "metadata": {},
   "outputs": [
    {
     "name": "stdout",
     "output_type": "stream",
     "text": [
      "<class 'pandas.core.frame.DataFrame'>\n",
      "RangeIndex: 1393570 entries, 0 to 1393569\n",
      "Data columns (total 5 columns):\n",
      "listing_id    1393570 non-null int64\n",
      "date          1393570 non-null object\n",
      "available     1393570 non-null object\n",
      "price         934542 non-null float64\n",
      "Month         1393570 non-null float64\n",
      "dtypes: float64(2), int64(1), object(2)\n",
      "memory usage: 53.2+ MB\n"
     ]
    },
    {
     "data": {
      "image/png": "[encoded data removed]",
      "text/plain": [
       "<Figure size 432x288 with 1 Axes>"
      ]
     },
     "metadata": {
      "needs_background": "light"
     },
     "output_type": "display_data"
    }
   ],
   "source": [
    "# Load csv into dataframes\n",
    "calender_df= pd.read_csv('..//data//calendar.csv')\n",
    "\n",
    "get_float_val(calender_df['price'])\n",
    "\n",
    "def count_days_since(oldDate):\n",
    "    return oldDate.month\n",
    "# host since\n",
    "calender_df['Month'] = pd.to_datetime(calender_df.date).apply(count_days_since)\n",
    "calender_df['price'] = calender_df['price'].astype(dtype='float')\n",
    "calender_df['Month'] = calender_df['Month'].astype(dtype='float')\n",
    "calender_df.info()\n",
    "\n",
    "datas = calender_df.groupby(['Month']).price.sum()\n",
    "\n",
    "#Step 1 - Prepare Data\n",
    "data = calender_df\n",
    "\n",
    "#Step 2 - Create Plot\n",
    "fig = plt.figure()\n",
    "\n",
    "#Step 3 - Plot\n",
    "ax = fig.add_subplot(111)\n",
    "\n",
    "#Step 4 - Customize plot\n",
    "ax.plot(datas,marker='o')\n",
    "\n",
    "#Step 5 - plt.show()\n",
    "plt.show()\n"
   ]
  },
  {
   "cell_type": "markdown",
   "metadata": {},
   "source": [
    "## Price by Zipcodes"
   ]
  },
  {
   "cell_type": "code",
   "execution_count": 32,
   "metadata": {},
   "outputs": [
    {
     "data": {
      "image/png": "[encoded data removed]",
      "text/plain": [
       "<Figure size 720x720 with 1 Axes>"
      ]
     },
     "metadata": {
      "needs_background": "light"
     },
     "output_type": "display_data"
    }
   ],
   "source": [
    "# Load csv into dataframes\n",
    "listings_df= pd.read_csv('..//data//listings.csv')\n",
    "\n",
    "listings_df['price'] = get_float_val(listings_df['price'])\n",
    "listings_df['price'] = listings_df['price'].astype(dtype='float')\n",
    "plotg = listings_df.groupby(['zipcode']).price.mean()\n",
    "\n",
    "import matplotlib.pyplot as plt\n",
    "_ = plotg.plot(kind='bar',figsize=(10,10),title='Mean Price in USD by Zipcode in Seattle 2016 airbnb',y= 'Mean Price in $',legend=True)"
   ]
  }
 ],
 "metadata": {
  "kernelspec": {
   "display_name": "Python 3",
   "language": "python",
   "name": "python3"
  },
  "language_info": {
   "codemirror_mode": {
    "name": "ipython",
    "version": 3
   },
   "file_extension": ".py",
   "mimetype": "text/x-python",
   "name": "python",
   "nbconvert_exporter": "python",
   "pygments_lexer": "ipython3",
   "version": "3.7.1"
  }
 },
 "nbformat": 4,
 "nbformat_minor": 2
}
